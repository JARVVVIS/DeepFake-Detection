{
 "cells": [
  {
   "cell_type": "code",
   "execution_count": null,
   "metadata": {
    "colab": {
     "base_uri": "https://localhost:8080/",
     "height": 35
    },
    "colab_type": "code",
    "id": "x_b6QXAkV3nd",
    "outputId": "fcbb7152-3559-4581-aeb3-9441f15d8bc6"
   },
   "outputs": [],
   "source": [
    "from google.colab import drive\n",
    "drive.mount('/content/drive')"
   ]
  },
  {
   "cell_type": "code",
   "execution_count": null,
   "metadata": {
    "colab": {
     "base_uri": "https://localhost:8080/",
     "height": 1000
    },
    "colab_type": "code",
    "id": "hDQ7tH8mXSTW",
    "outputId": "595e8ab4-2965-40b4-f4cc-d1cca75eeac9"
   },
   "outputs": [],
   "source": [
    "## Extracting the Data ; Run only if restarting runtime or running first time\n",
    "!tar -xvf \"/content/drive/My Drive/image_data/image_data.tar.gz\""
   ]
  },
  {
   "cell_type": "code",
   "execution_count": null,
   "metadata": {
    "colab": {},
    "colab_type": "code",
    "id": "mVB8ljdPWXyv"
   },
   "outputs": [],
   "source": [
    "import torch\n",
    "from torchvision import datasets\n",
    "import torchvision.transforms as transforms\n",
    "from torch.utils.data.sampler import SubsetRandomSampler\n",
    "\n",
    "import numpy as np\n",
    "import matplotlib.pyplot as plt"
   ]
  },
  {
   "cell_type": "code",
   "execution_count": null,
   "metadata": {
    "colab": {},
    "colab_type": "code",
    "id": "RpLnchVg_dk8"
   },
   "outputs": [],
   "source": [
    "train_gpu = torch.cuda.is_available()"
   ]
  },
  {
   "cell_type": "code",
   "execution_count": null,
   "metadata": {
    "colab": {},
    "colab_type": "code",
    "id": "El6UncP1Xn6Z"
   },
   "outputs": [],
   "source": [
    "class Data(object):\n",
    "  \n",
    "  '''\n",
    "  A class to load and setup data transformers\n",
    "  '''\n",
    "  \n",
    "  def __init__(self,batch_size=75,test_size=0.2):\n",
    "    self.batch_size = batch_size\n",
    "    self.test_size = test_size\n",
    "    self.transform = transforms.Compose([transforms.ToTensor(),\n",
    "                                         transforms.Normalize((0.5,0.5,0.5),(0.5,0.5,0.5))\n",
    "                                      \n",
    "    ])\n",
    "    \n",
    "  def load_data(self):\n",
    "\n",
    "    train_data = datasets.ImageFolder('image_data',transform=self.transform)\n",
    "\n",
    "    num_train = len(train_data)\n",
    "    print('Total Data Points {}'.format(num_train))\n",
    "    indices = list(range(num_train))\n",
    "    np.random.shuffle(indices)\n",
    "    split = int(np.floor(self.test_size*num_train))\n",
    "    train_idx,test_idx = indices[split:],indices[:split]\n",
    "\n",
    "    train_sampler = SubsetRandomSampler(train_idx)\n",
    "    test_sampler = SubsetRandomSampler(test_idx)\n",
    "\n",
    "    self.train_loader = torch.utils.data.DataLoader(train_data,batch_size=self.batch_size,sampler=train_sampler)\n",
    "    self.test_loader = torch.utils.data.DataLoader(train_data,batch_size=self.batch_size,sampler=test_sampler)\n",
    "\n",
    "    self.classes = ['fake','real']\n",
    "\n",
    "    return self.train_loader,self.test_loader\n",
    "\n",
    "  def plot(self):\n",
    "    \n",
    "    '''\n",
    "    Plots a single Image and label\n",
    "    '''\n",
    "    images,labels = (iter(self.train_loader)).next()\n",
    "    print(labels.shape)\n",
    "    image,truth = images[0],labels[0]\n",
    "    \n",
    "    ## convert image to numpy\n",
    "    image = image.numpy()\n",
    "    image = image/2 + 0.5 ## unnormalize\n",
    "    print('Shape of Image from Loader {}'.format(image.shape))\n",
    "    image = np.transpose(image,(1,2,0))\n",
    "    plt.imshow(image)\n",
    "    plt.title(self.classes[truth])\n",
    "    plt.show()    "
   ]
  },
  {
   "cell_type": "code",
   "execution_count": null,
   "metadata": {
    "colab": {
     "base_uri": "https://localhost:8080/",
     "height": 35
    },
    "colab_type": "code",
    "id": "wcdx7jHueJkP",
    "outputId": "29175573-c7f4-4d17-938b-3a142072c63f"
   },
   "outputs": [],
   "source": [
    "data = Data()\n",
    "train_loader,test_loader = data.load_data()"
   ]
  },
  {
   "cell_type": "code",
   "execution_count": null,
   "metadata": {
    "colab": {
     "base_uri": "https://localhost:8080/",
     "height": 317
    },
    "colab_type": "code",
    "id": "zfTCxULdeb0_",
    "outputId": "71214ad5-f8e8-49a0-eac2-8b31ec3eca79"
   },
   "outputs": [],
   "source": [
    "data.plot()"
   ]
  },
  {
   "cell_type": "code",
   "execution_count": null,
   "metadata": {
    "colab": {},
    "colab_type": "code",
    "id": "DYX9xV5Jf8VH"
   },
   "outputs": [],
   "source": [
    "## Define the Model\n",
    "\n",
    "import torch.nn as nn\n",
    "import torch.nn.functional as F"
   ]
  },
  {
   "cell_type": "code",
   "execution_count": null,
   "metadata": {
    "colab": {},
    "colab_type": "code",
    "id": "qiOnxOcwgXHz"
   },
   "outputs": [],
   "source": [
    "class MesoInception4(nn.Module):\n",
    "  \n",
    "  def __init__(self):\n",
    "    super(MesoInception4,self).__init__()\n",
    "\n",
    "    ## 1,4,4,2 -> inception layer 1\n",
    "\n",
    "    self.inception_1_conv_1_1  = nn.Conv2d(3,1,1,padding=0)\n",
    "\n",
    "    self.inception_1_conv_2_1  = nn.Conv2d(3,4,1,padding=0)\n",
    "    self.inception_1_conv_2_2  = nn.Conv2d(4,4,3,padding=1)\n",
    "\n",
    "    self.inception_1_conv_3_1  = nn.Conv2d(3,4,1,padding=0)\n",
    "    self.inception_1_conv_3_2  = nn.Conv2d(4,4,3,padding=2,dilation=2)\n",
    "\n",
    "    self.inception_1_conv_4_1 = nn.Conv2d(3,2,1,padding=0)\n",
    "    self.inception_1_conv_4_2 = nn.Conv2d(2,2,3,dilation=3,padding=3)\n",
    "\n",
    "    self.bn_1 = nn.BatchNorm2d(11)\n",
    "\n",
    "    ## 2,4,4,2 -> inception layer 2\n",
    "\n",
    "    self.inception_2_conv_1_1  = nn.Conv2d(11,2,1,padding=0)\n",
    "\n",
    "    self.inception_2_conv_2_1  = nn.Conv2d(11,4,1,padding=0)\n",
    "    self.inception_2_conv_2_2  = nn.Conv2d(4,4,3,padding=1)\n",
    "\n",
    "    self.inception_2_conv_3_1  = nn.Conv2d(11,4,1,padding=0)\n",
    "    self.inception_2_conv_3_2  = nn.Conv2d(4,4,3,padding=2,dilation=2)\n",
    "\n",
    "    self.inception_2_conv_4_1 = nn.Conv2d(11,2,1,padding=0)\n",
    "    self.inception_2_conv_4_2 = nn.Conv2d(2,2,3,dilation=3,padding=3)\n",
    "\n",
    "    self.bn_2 = nn.BatchNorm2d(12)\n",
    "\n",
    "\n",
    "    self.conv_1 = nn.Conv2d(12,16,5,padding=2)     ## inpute_channel,output_channel,kernel_size\n",
    "    self.relu = nn.ReLU(inplace=True)\n",
    "    self.leakyrelu = nn.LeakyReLU(0.1)\n",
    "    self.bn_3 = nn.BatchNorm2d(16)\n",
    "    self.max_pool_1 = nn.MaxPool2d((2,2))\n",
    "\n",
    "    self.conv_2 = nn.Conv2d(16,16,5,padding=2)\n",
    "    self.max_pool_2 = nn.MaxPool2d((4,4))\n",
    "\n",
    "    self.dropout = nn.Dropout2d(0.5)\n",
    "    self.fc1 = nn.Linear(16*8*8,16)\n",
    "    self.fc2 = nn.Linear(16,2)\n",
    "\n",
    "  def inception_module_1(self,x):\n",
    "    ## Gets input for module 1 \n",
    "    ## returns output of module 1\n",
    "    x1 =  self.relu(self.inception_1_conv_1_1(x))\n",
    "\n",
    "    x2 =  self.relu(self.inception_1_conv_2_1(x))\n",
    "    x2 =  self.relu(self.inception_1_conv_2_2(x2)) \n",
    "\n",
    "    x3 =  self.relu(self.inception_1_conv_3_1(x))\n",
    "    x3 =  self.relu(self.inception_1_conv_3_2(x3))\n",
    "\n",
    "    x4 =  self.relu(self.inception_1_conv_4_1(x))\n",
    "    x4 =  self.relu(self.inception_1_conv_4_2(x4))\n",
    "\n",
    "    y = torch.cat((x1,x2,x3,x4),1)\n",
    "    y = self.bn_1(y)\n",
    "    y = self.max_pool_1(y)\n",
    "\n",
    "    return y\n",
    "\n",
    "  def inception_module_2(self,x):\n",
    "    ## Gets input for module 2 \n",
    "    ## returns output of module 2\n",
    "    x1 =  self.relu(self.inception_2_conv_1_1(x))\n",
    "\n",
    "    x2 =  self.relu(self.inception_2_conv_2_1(x))\n",
    "    x2 =  self.relu(self.inception_2_conv_2_2(x2))\n",
    "\n",
    "    x3 =  self.relu(self.inception_2_conv_3_1(x))\n",
    "    x3 =  self.relu(self.inception_2_conv_3_2(x3))\n",
    "\n",
    "    x4 =  self.relu(self.inception_2_conv_4_1(x))\n",
    "    x4 =  self.relu(self.inception_2_conv_4_2(x4))\n",
    "\n",
    "    y = torch.cat((x1,x2,x3,x4),1)\n",
    "    y = self.bn_2(y)\n",
    "    y = self.max_pool_1(y)\n",
    "    \n",
    "    return y\n",
    "\n",
    "  \n",
    "  def forward(self,x):\n",
    "    '''\n",
    "    Forward pass of the model\n",
    "    '''\n",
    "    x = self.inception_module_1(x)\n",
    "\n",
    "    x = self.inception_module_2(x)\n",
    "    \n",
    "    x = self.conv_1(x)\n",
    "    x = self.relu(x)\n",
    "    x = self.bn_3(x)\n",
    "    x = self.max_pool_1(x)\n",
    "\n",
    "    x = self.conv_2(x)\n",
    "    x = self.relu(x)\n",
    "    x = self.bn_3(x)\n",
    "    x = self.max_pool_2(x)\n",
    "    \n",
    "    x = x.view(-1,16*8*8) ## Flatten the layer for dense operations\n",
    "\n",
    "    \n",
    "    x = self.dropout(x)\n",
    "    x = self.leakyrelu(self.fc1(x))\n",
    "    x = self.dropout(x)\n",
    "    x = self.fc2(x)\n",
    "    \n",
    "    return x\n",
    "  "
   ]
  },
  {
   "cell_type": "code",
   "execution_count": null,
   "metadata": {
    "colab": {
     "base_uri": "https://localhost:8080/",
     "height": 521
    },
    "colab_type": "code",
    "id": "FnAAe305-jxx",
    "outputId": "0e1c75ed-94f5-4b73-8b8d-1639b5f22b8d"
   },
   "outputs": [],
   "source": [
    "model = MesoInception4()\n",
    "\n",
    "print(model)"
   ]
  },
  {
   "cell_type": "code",
   "execution_count": null,
   "metadata": {
    "colab": {
     "base_uri": "https://localhost:8080/",
     "height": 208
    },
    "colab_type": "code",
    "id": "ib87fC5h-oDN",
    "outputId": "f76e9b6f-7403-4375-eee3-2cc2952ef94c"
   },
   "outputs": [],
   "source": [
    "import torch.optim as optim\n",
    "from torch.autograd import Variable\n",
    "\n",
    "criterion = nn.CrossEntropyLoss()\n",
    "\n",
    "optimizer = optim.Adam(model.parameters(),lr=0.001)"
   ]
  },
  {
   "cell_type": "code",
   "execution_count": null,
   "metadata": {
    "colab": {},
    "colab_type": "code",
    "id": "_q_PyKJISjur"
   },
   "outputs": [],
   "source": []
  },
  {
   "cell_type": "code",
   "execution_count": null,
   "metadata": {
    "colab": {
     "base_uri": "https://localhost:8080/",
     "height": 557
    },
    "colab_type": "code",
    "id": "Hzv5Y_s9AeFV",
    "outputId": "625be18e-0f08-4bc8-dea5-23d7efcfdb4b"
   },
   "outputs": [],
   "source": [
    "model = model.cuda()\n",
    "n_epochs = 30\n",
    "for epoch in range(1,n_epochs+1):\n",
    "  \n",
    "  ## Train loss for this epoch\n",
    "  train_loss = 0.0\n",
    "  total,correct = 0,0\n",
    "  for batch_idx,(data,target) in enumerate(train_loader):\n",
    "    if train_gpu:\n",
    "      data,target = Variable(data.cuda()),Variable(target.cuda())\n",
    "      \n",
    "    ## clear the optimizer\n",
    "    optimizer.zero_grad()\n",
    "    \n",
    "    ## get the output\n",
    "    output = model(data)\n",
    "    \n",
    "    ## get the loss\n",
    "    loss = criterion(output,target)\n",
    "    \n",
    "    ## make a backward pass\n",
    "    loss.backward()\n",
    "    \n",
    "    ## optimize\n",
    "    optimizer.step()\n",
    "\n",
    "    _,pred = torch.max(output.data,1)\n",
    "    total += target.size(0) ## add batch_size\n",
    "    correct += (pred == target).sum().item()\n",
    "\n",
    "    acc = 100*(correct/total)\n",
    "    \n",
    "    ## update loss\n",
    "    train_loss += loss.item()*data.size(0) ## Loss*no of elements in batch\n",
    "   \n",
    "  train_loss = train_loss/len(train_loader.sampler)\n",
    "\n",
    "  print('Epochs: {} \\tTraining Loss: {:.6f}  \\tAccuracy:  {}'.format(epoch,train_loss,acc))"
   ]
  },
  {
   "cell_type": "code",
   "execution_count": null,
   "metadata": {
    "colab": {},
    "colab_type": "code",
    "id": "wFllYkjNicSe"
   },
   "outputs": [],
   "source": [
    "def evaluate(loader,model_e):\n",
    "    total,correct = 0,0\n",
    "    model_e.eval()\n",
    "    for data in loader:\n",
    "        images,target = data\n",
    "        images,target = images.cuda(),target.cuda()\n",
    "        outputs = model_e(images)\n",
    "        _,pred = torch.max(outputs.data,1)\n",
    "        total += target.size(0) ## add batch_size\n",
    "        correct += (pred == target).sum().item()\n",
    "    return 100*(correct/total)"
   ]
  },
  {
   "cell_type": "code",
   "execution_count": null,
   "metadata": {
    "colab": {
     "base_uri": "https://localhost:8080/",
     "height": 35
    },
    "colab_type": "code",
    "id": "fB8uApzRVe8C",
    "outputId": "dfbab895-67b8-4987-aeb1-eb35bed92e6a"
   },
   "outputs": [],
   "source": [
    "evaluate(test_loader,model)"
   ]
  },
  {
   "cell_type": "code",
   "execution_count": null,
   "metadata": {
    "colab": {},
    "colab_type": "code",
    "id": "rCQuQ-2mXBy9"
   },
   "outputs": [],
   "source": [
    "## Save the Model:\n",
    "\n",
    "torch.save(model.state_dict(),'drive/My Drive/MesoInceptionNaive.pt')"
   ]
  },
  {
   "cell_type": "code",
   "execution_count": null,
   "metadata": {
    "colab": {},
    "colab_type": "code",
    "id": "TyJ-3sfYyqRb"
   },
   "outputs": [],
   "source": [
    "## Load the model\n",
    "\n",
    "net = MesoInception4()\n",
    "net.load_state_dict(torch.load('drive/My Drive/deepFake_models/MesoInceptionNaive.pt'))\n",
    "net = net.cuda()"
   ]
  },
  {
   "cell_type": "code",
   "execution_count": null,
   "metadata": {
    "colab": {
     "base_uri": "https://localhost:8080/",
     "height": 35
    },
    "colab_type": "code",
    "id": "_SAlv2uQznMQ",
    "outputId": "62fd20da-89f2-4983-f769-f63d3f4f4af5"
   },
   "outputs": [],
   "source": [
    "evaluate(test_loader,net)"
   ]
  },
  {
   "cell_type": "code",
   "execution_count": null,
   "metadata": {
    "colab": {},
    "colab_type": "code",
    "id": "FsjmhyHGzs7j"
   },
   "outputs": [],
   "source": []
  }
 ],
 "metadata": {
  "accelerator": "GPU",
  "colab": {
   "collapsed_sections": [],
   "name": "MesoNet.ipynb",
   "provenance": []
  },
  "kernelspec": {
   "display_name": "Python 3",
   "language": "python",
   "name": "python3"
  },
  "language_info": {
   "codemirror_mode": {
    "name": "ipython",
    "version": 3
   },
   "file_extension": ".py",
   "mimetype": "text/x-python",
   "name": "python",
   "nbconvert_exporter": "python",
   "pygments_lexer": "ipython3",
   "version": "3.5.2"
  }
 },
 "nbformat": 4,
 "nbformat_minor": 1
}
